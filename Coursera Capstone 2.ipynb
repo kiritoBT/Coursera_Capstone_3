{
    "nbformat_minor": 1, 
    "cells": [
        {
            "source": "## Capstone - project ( dataframe ) \nThis project consists of scraping a wikipedia page and generating a dataframe. First we will read all the data from the page and systematically put them into the respective columns of Postal code, Borough and Neighborhood ( of the dataframe to be generated ). In the first step al the respective libraries are downloaded", 
            "cell_type": "markdown", 
            "metadata": {
                "collapsed": true
            }
        }, 
        {
            "execution_count": 70, 
            "cell_type": "code", 
            "metadata": {}, 
            "outputs": [], 
            "source": "import pandas as pd\nimport numpy as np\nfrom bs4 import BeautifulSoup\nfrom urllib.request import urlopen\nimport requests"
        }, 
        {
            "source": "The above cell takes care of the necessary libraries that need to be imported. The next step is to download the link and store the URL into the object wikipedia_link", 
            "cell_type": "markdown", 
            "metadata": {}
        }, 
        {
            "execution_count": 71, 
            "cell_type": "code", 
            "metadata": {}, 
            "outputs": [], 
            "source": "wikipedia_link='https://en.wikipedia.org/wiki/List_of_postal_codes_of_Canada:_M'"
        }, 
        {
            "execution_count": 72, 
            "cell_type": "code", 
            "metadata": {}, 
            "outputs": [], 
            "source": "raw_wikipedia_page= requests.get(wikipedia_link)\nurl  = requests.get(wikipedia_link).text\nsoup = BeautifulSoup(url,'lxml')\n#print(soup.prettify())\n"
        }, 
        {
            "source": "The raw data is stored as a text file. The table class find is done in next steps and the postal codes are extracted. Avoiding index errors, all the rows are first extracted irrespective of their values ( whether assigned or not ). Neighbourhood columns are split using the delimiter '(' or the 2nd index of tag 'a' in the html script", 
            "cell_type": "markdown", 
            "metadata": {}
        }, 
        {
            "execution_count": 73, 
            "cell_type": "code", 
            "metadata": {}, 
            "outputs": [], 
            "source": "# code to find the respective columns\nmy_table = soup.find('table')\nlist_of_rows = []\nNeighbourhood = []\nBorough       = []\npostcode      = []\nnotpostcode   = [] # the column list to subtract from the original columnof unassigned values\n#cell by cell check for tag 'td' and 'title', extracting the span text value. \nfor cell in my_table.find_all('td'):\n    postcode.append(cell.find_all('b')[0].text)\n    if cell.find_all('title') is None: # for the cases where there are no titles\n        a1=cell.find_all('span')[0].text\n        Borough.append(a1.split('(',1)[0])# cases where the span text value has bracketed value ( which is the neighboru value)\n        \n    else:\n        try:\n            a1=cell.find_all('span')[0].text # total span value\n            a2=cell.find_all('a')[1].text # neighbourhood value \n            a3=a1.replace(a2,\"\")\n            a4=a3.split('(',1)[0]\n            Borough.append(a4)\n           \n        except IndexError:          # for index error, in cases where the neighbourhood values do not exist as the value of cell is taken as borough value\n            a1=cell.find_all('span')[0].text\n            a2=a1.split('(',1)[0]\n            Borough.append(a2)\n    for notas in cell.find_all('i'):\n        notpostcode.append(cell.find_all('b')[0].text)\n\n#cell extraction for the neighbourhood \nfor cell in my_table.find_all('td'):\n    if not not cell.find_all('i'):\n        Neighbourhood.append(cell.find_all('span')[0].text)\n    elif cell.find_all('a') is None:\n        try:\n            a1=cell.find_all('span')[0].text\n            Neighbourhood.append(a1.split('(',1)[1])\n        except IndexError:\n            a1='Not assigned'\n            Neighbourhood.append(a1) # for Indexerror if there isn't any split value\n    else:\n        try:\n            a1=cell.find_all('span')[0].text # neighbourhood value\n            Neighbourhood.append(a1.split('(',1)[1])\n        except IndexError:\n            a1='Not assigned'\n            Neighbourhood.append(a1)\n"
        }, 
        {
            "source": "The following part of the algorithm manually cleans the leftover data", 
            "cell_type": "markdown", 
            "metadata": {}
        }, 
        {
            "execution_count": 74, 
            "cell_type": "code", 
            "metadata": {}, 
            "outputs": [], 
            "source": "# Cleaning the columns and manually replacing values from Borough to Neighbourhood columns ( 2-3 nos) which had no space (  ) between Borough and Neighbourhood value; for eg\n# MississaugaCanada Post Gateway Processing Centre\nb_indices = [i for i, s in enumerate(Borough) if '\\n' in s]\nBorough = [borough.replace('\\n','') for borough in Borough]\n\nb1_index= [i for i, s in enumerate(Borough) if 'Mississauga' in s]\nNeighbourhood[b1_index[0]]=Borough[b1_index[0]][11:] \nBorough[b1_index[0]]=Borough[b1_index[0]][:11]\n\nb2_index= [i for i, s in enumerate(Borough) if 'PO Boxes25' in s]\nNeighbourhood[b2_index[0]]=Borough[b2_index[0]][16:] \nBorough[b2_index[0]]=Borough[b2_index[0]][:16]\n\nb3_index= [i for i, s in enumerate(Borough) if 'EtobicokeNorthwest' in s]\nNeighbourhood[b3_index[0]]=Borough[b3_index[0]][9:] \nBorough[b3_index[0]]=Borough[b3_index[0]][:9]\n\nb4_index= [i for i, s in enumerate(Borough) if 'East YorkEast Toronto' in s]\nNeighbourhood[b4_index[0]]=Borough[b4_index[0]][9:] \nBorough[b4_index[0]]=Borough[b4_index[0]][:9]\n\nb5_index= [i for i, s in enumerate(Borough) if 'TorontoBusiness' in s]\nNeighbourhood[b5_index[0]]=Borough[b5_index[0]][12:] \nBorough[b5_index[0]]=Borough[b5_index[0]][:12]\n"
        }, 
        {
            "source": "Clean the Neighbourhood columns ", 
            "cell_type": "markdown", 
            "metadata": {}
        }, 
        {
            "execution_count": 75, 
            "cell_type": "code", 
            "metadata": {}, 
            "outputs": [], 
            "source": "Neighbourhood = [n.replace(')','') for n in Neighbourhood]\nNeighbourhood = [n.replace('/',',') for n in Neighbourhood]\nNeighbourhood = [n.replace('(',',') for n in Neighbourhood]"
        }, 
        {
            "source": "Generate DataFrame and delete the columns with Not assigned value as in Borough", 
            "cell_type": "markdown", 
            "metadata": {}
        }, 
        {
            "execution_count": 76, 
            "cell_type": "code", 
            "metadata": {}, 
            "outputs": [
                {
                    "execution_count": 76, 
                    "metadata": {}, 
                    "data": {
                        "text/html": "<div>\n<style scoped>\n    .dataframe tbody tr th:only-of-type {\n        vertical-align: middle;\n    }\n\n    .dataframe tbody tr th {\n        vertical-align: top;\n    }\n\n    .dataframe thead th {\n        text-align: right;\n    }\n</style>\n<table border=\"1\" class=\"dataframe\">\n  <thead>\n    <tr style=\"text-align: right;\">\n      <th></th>\n      <th>Postcode</th>\n      <th>Borough</th>\n      <th>Neighbourhood</th>\n    </tr>\n  </thead>\n  <tbody>\n    <tr>\n      <th>0</th>\n      <td>M3A</td>\n      <td>North York</td>\n      <td>Parkwoods</td>\n    </tr>\n    <tr>\n      <th>1</th>\n      <td>M4A</td>\n      <td>North York</td>\n      <td>Victoria Village</td>\n    </tr>\n    <tr>\n      <th>2</th>\n      <td>M5A</td>\n      <td>Downtown Toronto</td>\n      <td>Regent Park , Harbourfront</td>\n    </tr>\n    <tr>\n      <th>3</th>\n      <td>M6A</td>\n      <td>North York</td>\n      <td>Lawrence Manor , Lawrence Heights</td>\n    </tr>\n    <tr>\n      <th>4</th>\n      <td>M7A</td>\n      <td>Queen's Park</td>\n      <td>Not assigned</td>\n    </tr>\n    <tr>\n      <th>5</th>\n      <td>M9A</td>\n      <td>Etobicoke</td>\n      <td>Islington Avenue</td>\n    </tr>\n    <tr>\n      <th>6</th>\n      <td>M1B</td>\n      <td>Scarborough</td>\n      <td>Malvern , Rouge</td>\n    </tr>\n    <tr>\n      <th>7</th>\n      <td>M3B</td>\n      <td>North York</td>\n      <td>Don MillsNorth</td>\n    </tr>\n    <tr>\n      <th>8</th>\n      <td>M4B</td>\n      <td>East York</td>\n      <td>Parkview Hill , Woodbine Gardens</td>\n    </tr>\n    <tr>\n      <th>9</th>\n      <td>M5B</td>\n      <td>Downtown Toronto</td>\n      <td>Garden District, Ryerson</td>\n    </tr>\n    <tr>\n      <th>10</th>\n      <td>M6B</td>\n      <td>North York</td>\n      <td>Glencairn</td>\n    </tr>\n    <tr>\n      <th>11</th>\n      <td>M9B</td>\n      <td>Etobicoke</td>\n      <td>West Deane Park , Princess Gardens , Martin Gr...</td>\n    </tr>\n    <tr>\n      <th>12</th>\n      <td>M1C</td>\n      <td>Scarborough</td>\n      <td>Rouge Hill , Port Union , Highland Creek</td>\n    </tr>\n    <tr>\n      <th>13</th>\n      <td>M3C</td>\n      <td>North York</td>\n      <td>Don MillsSouth,Flemingdon Park</td>\n    </tr>\n    <tr>\n      <th>14</th>\n      <td>M4C</td>\n      <td>East York</td>\n      <td>Woodbine Heights</td>\n    </tr>\n    <tr>\n      <th>15</th>\n      <td>M5C</td>\n      <td>Downtown Toronto</td>\n      <td>St. James Town</td>\n    </tr>\n    <tr>\n      <th>16</th>\n      <td>M6C</td>\n      <td>York</td>\n      <td>Humewood-Cedarvale</td>\n    </tr>\n    <tr>\n      <th>17</th>\n      <td>M9C</td>\n      <td>Etobicoke</td>\n      <td>Eringate , Bloordale Gardens , Old Burnhamthor...</td>\n    </tr>\n    <tr>\n      <th>18</th>\n      <td>M1E</td>\n      <td>Scarborough</td>\n      <td>Guildwood , Morningside , West Hill</td>\n    </tr>\n    <tr>\n      <th>19</th>\n      <td>M4E</td>\n      <td>East Toronto</td>\n      <td>The Beaches</td>\n    </tr>\n    <tr>\n      <th>20</th>\n      <td>M5E</td>\n      <td>Downtown Toronto</td>\n      <td>Berczy Park</td>\n    </tr>\n    <tr>\n      <th>21</th>\n      <td>M6E</td>\n      <td>York</td>\n      <td>Caledonia-Fairbanks</td>\n    </tr>\n    <tr>\n      <th>22</th>\n      <td>M1G</td>\n      <td>Scarborough</td>\n      <td>Woburn</td>\n    </tr>\n    <tr>\n      <th>23</th>\n      <td>M4G</td>\n      <td>East York</td>\n      <td>Leaside</td>\n    </tr>\n    <tr>\n      <th>24</th>\n      <td>M5G</td>\n      <td>Downtown Toronto</td>\n      <td>Central Bay Street</td>\n    </tr>\n    <tr>\n      <th>25</th>\n      <td>M6G</td>\n      <td>Downtown Toronto</td>\n      <td>Christie</td>\n    </tr>\n    <tr>\n      <th>26</th>\n      <td>M1H</td>\n      <td>Scarborough</td>\n      <td>Cedarbrae</td>\n    </tr>\n    <tr>\n      <th>27</th>\n      <td>M2H</td>\n      <td>North York</td>\n      <td>Hillcrest Village</td>\n    </tr>\n    <tr>\n      <th>28</th>\n      <td>M3H</td>\n      <td>North York</td>\n      <td>Bathurst Manor , Wilson Heights , Downsview North</td>\n    </tr>\n    <tr>\n      <th>29</th>\n      <td>M4H</td>\n      <td>East York</td>\n      <td>Thorncliffe Park</td>\n    </tr>\n    <tr>\n      <th>...</th>\n      <td>...</td>\n      <td>...</td>\n      <td>...</td>\n    </tr>\n    <tr>\n      <th>73</th>\n      <td>M4R</td>\n      <td>Central Toronto</td>\n      <td>North Toronto West</td>\n    </tr>\n    <tr>\n      <th>74</th>\n      <td>M5R</td>\n      <td>Central Toronto</td>\n      <td>The Annex , North Midtown , Yorkville</td>\n    </tr>\n    <tr>\n      <th>75</th>\n      <td>M6R</td>\n      <td>West Toronto</td>\n      <td>Parkdale , Roncesvalles</td>\n    </tr>\n    <tr>\n      <th>76</th>\n      <td>M7R</td>\n      <td>Mississauga</td>\n      <td>Canada Post Gateway Processing Centre</td>\n    </tr>\n    <tr>\n      <th>77</th>\n      <td>M9R</td>\n      <td>Etobicoke</td>\n      <td>Kingsview Village , St. Phillips , Martin Grov...</td>\n    </tr>\n    <tr>\n      <th>78</th>\n      <td>M1S</td>\n      <td>Scarborough</td>\n      <td>Agincourt</td>\n    </tr>\n    <tr>\n      <th>79</th>\n      <td>M4S</td>\n      <td>Central Toronto</td>\n      <td>Davisville</td>\n    </tr>\n    <tr>\n      <th>80</th>\n      <td>M5S</td>\n      <td>Downtown Toronto</td>\n      <td>University of Toronto , Harbord</td>\n    </tr>\n    <tr>\n      <th>81</th>\n      <td>M6S</td>\n      <td>West Toronto</td>\n      <td>Runnymede , Swansea</td>\n    </tr>\n    <tr>\n      <th>82</th>\n      <td>M1T</td>\n      <td>Scarborough</td>\n      <td>Clarks Corners , Tam O'Shanter , Sullivan</td>\n    </tr>\n    <tr>\n      <th>83</th>\n      <td>M4T</td>\n      <td>Central Toronto</td>\n      <td>Moore Park , Summerhill East</td>\n    </tr>\n    <tr>\n      <th>84</th>\n      <td>M5T</td>\n      <td>Downtown Toronto</td>\n      <td>Kensington Market , Chinatown , Grange Park</td>\n    </tr>\n    <tr>\n      <th>85</th>\n      <td>M1V</td>\n      <td>Scarborough</td>\n      <td>Milliken , Agincourt North , Steeles East , L'...</td>\n    </tr>\n    <tr>\n      <th>86</th>\n      <td>M4V</td>\n      <td>Central Toronto</td>\n      <td>Summerhill West , Rathnelly , South Hill , For...</td>\n    </tr>\n    <tr>\n      <th>87</th>\n      <td>M5V</td>\n      <td>Downtown Toronto</td>\n      <td>CN Tower , King and Spadina , Railway Lands , ...</td>\n    </tr>\n    <tr>\n      <th>88</th>\n      <td>M8V</td>\n      <td>Etobicoke</td>\n      <td>New Toronto , Mimico South , Humber Bay Shores</td>\n    </tr>\n    <tr>\n      <th>89</th>\n      <td>M9V</td>\n      <td>Etobicoke</td>\n      <td>South Steeles , Silverstone , Humbergate , Jam...</td>\n    </tr>\n    <tr>\n      <th>90</th>\n      <td>M1W</td>\n      <td>Scarborough</td>\n      <td>Steeles West , L'Amoreaux West</td>\n    </tr>\n    <tr>\n      <th>91</th>\n      <td>M4W</td>\n      <td>Downtown Toronto</td>\n      <td>Rosedale</td>\n    </tr>\n    <tr>\n      <th>92</th>\n      <td>M5W</td>\n      <td>Downtown Toronto</td>\n      <td>Stn A PO Boxes25 The Esplanade</td>\n    </tr>\n    <tr>\n      <th>93</th>\n      <td>M8W</td>\n      <td>Etobicoke</td>\n      <td>Alderwood , Long Branch</td>\n    </tr>\n    <tr>\n      <th>94</th>\n      <td>M9W</td>\n      <td>Etobicoke</td>\n      <td>Northwest</td>\n    </tr>\n    <tr>\n      <th>95</th>\n      <td>M1X</td>\n      <td>Scarborough</td>\n      <td>Upper Rouge</td>\n    </tr>\n    <tr>\n      <th>96</th>\n      <td>M4X</td>\n      <td>Downtown Toronto</td>\n      <td>St. James Town , Cabbagetown</td>\n    </tr>\n    <tr>\n      <th>97</th>\n      <td>M5X</td>\n      <td>Downtown Toronto</td>\n      <td>First Canadian Place , Underground city</td>\n    </tr>\n    <tr>\n      <th>98</th>\n      <td>M8X</td>\n      <td>Etobicoke</td>\n      <td>The Kingsway , Montgomery Road , Old Mill North</td>\n    </tr>\n    <tr>\n      <th>99</th>\n      <td>M4Y</td>\n      <td>Downtown Toronto</td>\n      <td>Church and Wellesley</td>\n    </tr>\n    <tr>\n      <th>100</th>\n      <td>M7Y</td>\n      <td>East Toronto</td>\n      <td>Business reply mail Processing Centre969 Eastern</td>\n    </tr>\n    <tr>\n      <th>101</th>\n      <td>M8Y</td>\n      <td>Etobicoke</td>\n      <td>Old Mill South , King's Mill Park , Sunnylea ,...</td>\n    </tr>\n    <tr>\n      <th>102</th>\n      <td>M8Z</td>\n      <td>Etobicoke</td>\n      <td>Mimico NW , The Queensway West , South of Bloo...</td>\n    </tr>\n  </tbody>\n</table>\n<p>103 rows \u00d7 3 columns</p>\n</div>", 
                        "text/plain": "    Postcode           Borough  \\\n0        M3A        North York   \n1        M4A        North York   \n2        M5A  Downtown Toronto   \n3        M6A        North York   \n4        M7A      Queen's Park   \n5        M9A         Etobicoke   \n6        M1B       Scarborough   \n7        M3B        North York   \n8        M4B         East York   \n9        M5B  Downtown Toronto   \n10       M6B        North York   \n11       M9B         Etobicoke   \n12       M1C       Scarborough   \n13       M3C        North York   \n14       M4C         East York   \n15       M5C  Downtown Toronto   \n16       M6C              York   \n17       M9C         Etobicoke   \n18       M1E       Scarborough   \n19       M4E      East Toronto   \n20       M5E  Downtown Toronto   \n21       M6E              York   \n22       M1G       Scarborough   \n23       M4G         East York   \n24       M5G  Downtown Toronto   \n25       M6G  Downtown Toronto   \n26       M1H       Scarborough   \n27       M2H        North York   \n28       M3H        North York   \n29       M4H         East York   \n..       ...               ...   \n73       M4R   Central Toronto   \n74       M5R   Central Toronto   \n75       M6R      West Toronto   \n76       M7R       Mississauga   \n77       M9R         Etobicoke   \n78       M1S       Scarborough   \n79       M4S   Central Toronto   \n80       M5S  Downtown Toronto   \n81       M6S      West Toronto   \n82       M1T       Scarborough   \n83       M4T   Central Toronto   \n84       M5T  Downtown Toronto   \n85       M1V       Scarborough   \n86       M4V   Central Toronto   \n87       M5V  Downtown Toronto   \n88       M8V         Etobicoke   \n89       M9V         Etobicoke   \n90       M1W       Scarborough   \n91       M4W  Downtown Toronto   \n92       M5W  Downtown Toronto   \n93       M8W         Etobicoke   \n94       M9W         Etobicoke   \n95       M1X       Scarborough   \n96       M4X  Downtown Toronto   \n97       M5X  Downtown Toronto   \n98       M8X         Etobicoke   \n99       M4Y  Downtown Toronto   \n100      M7Y      East Toronto   \n101      M8Y         Etobicoke   \n102      M8Z         Etobicoke   \n\n                                         Neighbourhood  \n0                                            Parkwoods  \n1                                     Victoria Village  \n2                           Regent Park , Harbourfront  \n3                    Lawrence Manor , Lawrence Heights  \n4                                         Not assigned  \n5                                     Islington Avenue  \n6                                      Malvern , Rouge  \n7                                       Don MillsNorth  \n8                     Parkview Hill , Woodbine Gardens  \n9                             Garden District, Ryerson  \n10                                           Glencairn  \n11   West Deane Park , Princess Gardens , Martin Gr...  \n12            Rouge Hill , Port Union , Highland Creek  \n13                      Don MillsSouth,Flemingdon Park  \n14                                    Woodbine Heights  \n15                                      St. James Town  \n16                                  Humewood-Cedarvale  \n17   Eringate , Bloordale Gardens , Old Burnhamthor...  \n18                 Guildwood , Morningside , West Hill  \n19                                         The Beaches  \n20                                         Berczy Park  \n21                                 Caledonia-Fairbanks  \n22                                              Woburn  \n23                                             Leaside  \n24                                  Central Bay Street  \n25                                            Christie  \n26                                           Cedarbrae  \n27                                   Hillcrest Village  \n28   Bathurst Manor , Wilson Heights , Downsview North  \n29                                    Thorncliffe Park  \n..                                                 ...  \n73                                  North Toronto West  \n74               The Annex , North Midtown , Yorkville  \n75                             Parkdale , Roncesvalles  \n76               Canada Post Gateway Processing Centre  \n77   Kingsview Village , St. Phillips , Martin Grov...  \n78                                          Agincourt   \n79                                          Davisville  \n80                     University of Toronto , Harbord  \n81                                 Runnymede , Swansea  \n82           Clarks Corners , Tam O'Shanter , Sullivan  \n83                        Moore Park , Summerhill East  \n84         Kensington Market , Chinatown , Grange Park  \n85   Milliken , Agincourt North , Steeles East , L'...  \n86   Summerhill West , Rathnelly , South Hill , For...  \n87   CN Tower , King and Spadina , Railway Lands , ...  \n88      New Toronto , Mimico South , Humber Bay Shores  \n89   South Steeles , Silverstone , Humbergate , Jam...  \n90                      Steeles West , L'Amoreaux West  \n91                                            Rosedale  \n92                      Stn A PO Boxes25 The Esplanade  \n93                             Alderwood , Long Branch  \n94                                           Northwest  \n95                                         Upper Rouge  \n96                        St. James Town , Cabbagetown  \n97             First Canadian Place , Underground city  \n98     The Kingsway , Montgomery Road , Old Mill North  \n99                                Church and Wellesley  \n100   Business reply mail Processing Centre969 Eastern  \n101  Old Mill South , King's Mill Park , Sunnylea ,...  \n102  Mimico NW , The Queensway West , South of Bloo...  \n\n[103 rows x 3 columns]"
                    }, 
                    "output_type": "execute_result"
                }
            ], 
            "source": "#passing the data to dataframe\ndf = pd.DataFrame()\ndf['Postcode']=postcode\ndf['Borough']= Borough\ndf['Neighbourhood']=Neighbourhood\ndf_post = df[ df.Borough != 'Not assigned']\ndf_post.reset_index(drop=True)"
        }, 
        {
            "execution_count": 78, 
            "cell_type": "code", 
            "metadata": {}, 
            "outputs": [
                {
                    "execution_count": 78, 
                    "metadata": {}, 
                    "data": {
                        "text/plain": "(103, 3)"
                    }, 
                    "output_type": "execute_result"
                }
            ], 
            "source": "df_post.shape # final dataframe shape"
        }
    ], 
    "metadata": {
        "kernelspec": {
            "display_name": "Python 3.5", 
            "name": "python3", 
            "language": "python"
        }, 
        "language_info": {
            "mimetype": "text/x-python", 
            "nbconvert_exporter": "python", 
            "version": "3.5.5", 
            "name": "python", 
            "file_extension": ".py", 
            "pygments_lexer": "ipython3", 
            "codemirror_mode": {
                "version": 3, 
                "name": "ipython"
            }
        }
    }, 
    "nbformat": 4
}